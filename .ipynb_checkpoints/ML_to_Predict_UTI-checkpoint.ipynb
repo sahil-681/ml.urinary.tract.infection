{
 "cells": [
  {
   "cell_type": "markdown",
   "id": "28d6a5c5",
   "metadata": {
    "id": "28d6a5c5"
   },
   "source": [
    "# Urinary Tract Infection Prediction\n",
    "\n",
    "This project focuses on machine learning model development. We will use an open, de-identified data set used by a team within the Yale system in the past to predict urinary tract infections"
   ]
  },
  {
   "cell_type": "markdown",
   "id": "a14e250f-44b1-491f-8eac-79fb740d64c7",
   "metadata": {
    "id": "a14e250f-44b1-491f-8eac-79fb740d64c7"
   },
   "source": [
    "#### Library import"
   ]
  },
  {
   "cell_type": "code",
   "execution_count": 1,
   "id": "dd326c99-9602-4e11-b8cd-f105a8ced063",
   "metadata": {
    "id": "dd326c99-9602-4e11-b8cd-f105a8ced063"
   },
   "outputs": [],
   "source": [
    "import pandas as pd\n",
    "import numpy as np\n",
    "import psycopg2\n",
    "import seaborn as sns\n",
    "import warnings\n",
    "warnings.filterwarnings('ignore')\n",
    "from datetime import date, datetime\n",
    "from dateutil.relativedelta import relativedelta\n",
    "from getpass import getpass\n",
    "from sqlalchemy import create_engine\n",
    "from matplotlib import pyplot as plt\n",
    "import missingno as msno\n",
    "import scipy.stats as stats\n",
    "from sklearn.ensemble import RandomForestClassifier\n",
    "from sklearn.datasets import make_classification\n",
    "from sklearn.preprocessing import LabelEncoder\n",
    "from sklearn.feature_selection import SelectFromModel\n",
    "from sklearn.feature_selection import SelectPercentile\n",
    "from sklearn.feature_selection import chi2, f_classif\n",
    "from sklearn.model_selection import train_test_split, ParameterGrid\n",
    "from sklearn.linear_model import LogisticRegression\n",
    "from sklearn.calibration import calibration_curve\n",
    "from xgboost import XGBClassifier\n",
    "from sklearn.model_selection import GridSearchCV\n",
    "from tabulate import tabulate\n",
    "from sklearn.metrics import confusion_matrix, roc_curve, auc"
   ]
  },
  {
   "cell_type": "code",
   "execution_count": null,
   "id": "e3d3cddb-ca7d-4cbb-9862-61504f846ff9",
   "metadata": {
    "id": "e3d3cddb-ca7d-4cbb-9862-61504f846ff9"
   },
   "outputs": [],
   "source": [
    "# URL\n",
    "url = \"https://journals.plos.org/plosone/article/file?type=supplementary&id=info:doi/10.1371/journal.pone.0194085.s001\"\n",
    "\n",
    "df = pd.read_csv(url)"
   ]
  },
  {
   "cell_type": "code",
   "execution_count": null,
   "id": "9e4b6957-a13d-4b3b-b2ef-74be62743450",
   "metadata": {
    "colab": {
     "base_uri": "https://localhost:8080/",
     "height": 330
    },
    "id": "9e4b6957-a13d-4b3b-b2ef-74be62743450",
    "outputId": "3790caae-0b78-4dd5-eb50-8502f1d02101"
   },
   "outputs": [],
   "source": [
    "pd.set_option('display.max_columns', None)\n",
    "df.head()"
   ]
  },
  {
   "cell_type": "code",
   "execution_count": null,
   "id": "c7172913-d542-4bd0-a62a-c3b63b34acee",
   "metadata": {
    "colab": {
     "base_uri": "https://localhost:8080/"
    },
    "id": "c7172913-d542-4bd0-a62a-c3b63b34acee",
    "outputId": "36389b18-35c2-4c04-c8b9-f8fb21a6fb10"
   },
   "outputs": [],
   "source": [
    "df.shape"
   ]
  },
  {
   "cell_type": "code",
   "execution_count": null,
   "id": "4c31f077-4614-4294-bf48-8596de64f6d7",
   "metadata": {
    "id": "4c31f077-4614-4294-bf48-8596de64f6d7"
   },
   "outputs": [],
   "source": [
    "# Dropping columns\n",
    "df.drop(columns=['split','abxUTI','alt_diag', 'ID','PATID'],inplace=True)"
   ]
  },
  {
   "cell_type": "markdown",
   "id": "b9432aea-2298-4778-9111-e393483837d7",
   "metadata": {
    "id": "b9432aea-2298-4778-9111-e393483837d7"
   },
   "source": [
    "#### Exploratory Data Analysis"
   ]
  },
  {
   "cell_type": "code",
   "execution_count": null,
   "id": "0fca6490-615b-41de-998c-2268cb9670f2",
   "metadata": {
    "colab": {
     "base_uri": "https://localhost:8080/"
    },
    "id": "0fca6490-615b-41de-998c-2268cb9670f2",
    "outputId": "6edaeb51-6d13-4c4b-f30f-6275c5da3c40"
   },
   "outputs": [],
   "source": [
    "# Columns with numeric variables\n",
    "num_vars = df.select_dtypes(include=['float64', 'int64'])\n",
    "num_vars.columns"
   ]
  },
  {
   "cell_type": "code",
   "execution_count": null,
   "id": "521ffa34-26a7-4c30-a45f-f5069142d6c9",
   "metadata": {
    "colab": {
     "base_uri": "https://localhost:8080/",
     "height": 300
    },
    "id": "521ffa34-26a7-4c30-a45f-f5069142d6c9",
    "outputId": "f46fb580-ab84-4e2a-f844-c9e9cf5d4fd6"
   },
   "outputs": [],
   "source": [
    "# Summary statistics\n",
    "num_vars.describe()"
   ]
  },
  {
   "cell_type": "code",
   "execution_count": null,
   "id": "7c984ddc-f638-4136-9f5e-5fa576d508a1",
   "metadata": {
    "colab": {
     "base_uri": "https://localhost:8080/"
    },
    "id": "7c984ddc-f638-4136-9f5e-5fa576d508a1",
    "outputId": "b6764513-f63f-465b-bed0-173fcc3aa27e"
   },
   "outputs": [],
   "source": [
    "# Columns with categorical variables\n",
    "cat_vars = df.select_dtypes(include=['object'])\n",
    "cat_vars.columns"
   ]
  },
  {
   "cell_type": "code",
   "execution_count": null,
   "id": "073b5c71-244e-466c-a46f-4c0eb146a840",
   "metadata": {
    "colab": {
     "base_uri": "https://localhost:8080/",
     "height": 212
    },
    "id": "073b5c71-244e-466c-a46f-4c0eb146a840",
    "outputId": "1cb8d2f5-6c5d-48c2-ae34-31fcc88ecd07"
   },
   "outputs": [],
   "source": [
    "## summary statistics for categorical variables\n",
    "cat_vars.describe()"
   ]
  },
  {
   "cell_type": "code",
   "execution_count": null,
   "id": "9f3d0582",
   "metadata": {
    "colab": {
     "base_uri": "https://localhost:8080/",
     "height": 504
    },
    "id": "9f3d0582",
    "outputId": "0b58eab1-4e61-4022-8664-0eaf7638228a"
   },
   "outputs": [],
   "source": [
    "# Customize the color palette and style\n",
    "custom_palette = [\"#FF5733\", \"#33FF57\", \"#5733FF\"]\n",
    "sns.set_palette(custom_palette)\n",
    "\n",
    "# Create subplots\n",
    "fig, (ax1, ax2, ax3) = plt.subplots(1, 3, figsize=(18, 6))\n",
    "\n",
    "# Plot a histogram with a custom color\n",
    "sns.histplot(data=df['age'], kde=True, binwidth=5, ax=ax1, color='skyblue')\n",
    "ax1.set_title('Histogram of Age')\n",
    "\n",
    "# Plot a histogram with different colors for each 'UTI_diag' value\n",
    "ax2 = sns.histplot(x='age', hue='UTI_diag', data=df, ax=ax2, palette='husl')\n",
    "ax2.set_title('Histogram Age by UTI Diagnosis')\n",
    "\n",
    "# Plot a boxplot with custom colors\n",
    "boxplot = sns.boxplot(x='UTI_diag', y='age', data=df, ax=ax3, palette='pastel')\n",
    "ax3.set_title('Boxplot of Patient Age by UTI Diagnosis')\n",
    "\n",
    "# Save the figure and display the plots\n",
    "plt.savefig('histograms.png')\n",
    "plt.show()"
   ]
  },
  {
   "cell_type": "code",
   "execution_count": null,
   "id": "2016241c",
   "metadata": {
    "colab": {
     "base_uri": "https://localhost:8080/",
     "height": 1000
    },
    "id": "2016241c",
    "outputId": "e962b590-d4e5-4f15-be46-791eaf0ef08d"
   },
   "outputs": [],
   "source": [
    "import matplotlib.pyplot as plt\n",
    "import seaborn as sns\n",
    "\n",
    "# Define a custom color palette\n",
    "custom_palette = ['#FF5733', '#33FF57']\n",
    "\n",
    "# Create subplots with two plots in each row\n",
    "fig, axes = plt.subplots(3, 2, figsize=(15, 25))\n",
    "\n",
    "# Barplot of 'gender' for the entire dataset\n",
    "sns.countplot(x='gender', data=df, ax=axes[0, 0], palette=custom_palette)\n",
    "axes[0, 0].set_title('Gender (Entire Dataset)')\n",
    "\n",
    "# Barplot of 'gender' based on 'UTI_diag'\n",
    "sns.countplot(x='gender', hue='UTI_diag', data=df, ax=axes[0, 1], palette=custom_palette)\n",
    "axes[0, 1].set_title('Gender (Based on UTI Diagnosis)')\n",
    "\n",
    "# Barplot of 'race' for the entire dataset with rotated x-axis labels\n",
    "sns.countplot(x='race', data=df, ax=axes[1, 0], palette=custom_palette)\n",
    "axes[1, 0].set_title('Race (Entire Dataset)')\n",
    "axes[1, 0].set_xticklabels(axes[1, 0].get_xticklabels(), rotation=45, horizontalalignment='right')\n",
    "\n",
    "# Barplot of 'race' based on 'UTI_diag' with rotated x-axis labels\n",
    "sns.countplot(x='race', hue='UTI_diag', data=df, ax=axes[1, 1], palette=custom_palette)\n",
    "axes[1, 1].set_title('Race (Based on UTI Diagnosis)')\n",
    "axes[1, 1].set_xticklabels(axes[1, 1].get_xticklabels(), rotation=45, horizontalalignment='right')\n",
    "\n",
    "# Barplot of 'ethnicity' for the entire dataset with rotated x-axis labels\n",
    "sns.countplot(x='ethnicity', data=df, ax=axes[2, 0], palette=custom_palette)\n",
    "axes[2, 0].set_title('Ethnicity (Entire Dataset)')\n",
    "axes[2, 0].set_xticklabels(axes[2, 0].get_xticklabels(), rotation=45, horizontalalignment='right')\n",
    "\n",
    "# Barplot of 'ethnicity' based on 'UTI_diag' with rotated x-axis labels\n",
    "sns.countplot(x='ethnicity', hue='UTI_diag', data=df, ax=axes[2, 1], palette=custom_palette)\n",
    "axes[2, 1].set_title('Ethnicity (Based on UTI Diagnosis)')\n",
    "axes[2, 1].set_xticklabels(axes[2, 1].get_xticklabels(), rotation=45, horizontalalignment='right')\n",
    "\n",
    "# Adjust the layout\n",
    "plt.tight_layout()\n",
    "\n",
    "# Save the figure and display the plots\n",
    "plt.savefig('barplots.png')\n",
    "plt.show()"
   ]
  },
  {
   "cell_type": "code",
   "execution_count": null,
   "id": "50362810",
   "metadata": {
    "id": "50362810",
    "outputId": "648273bd-a2f3-404e-8b0c-eaee9abf870a"
   },
   "outputs": [],
   "source": [
    "custom_palette = [\"#007acc\", \"#e74c3c\"]  # Blue and red colors\n",
    "\n",
    "# List of urinalysis variables to plot\n",
    "ua_variables = [\"ua_bacteria\", \"ua_protein\", 'ua_clarity', \"ua_leuk\", \"ua_nitrite\", \"ua_ph\", \"ua_color\"]\n",
    "\n",
    "# Create subplots\n",
    "fig, axes = plt.subplots(nrows=len(ua_variables), ncols=2, figsize=(15, 25))\n",
    "\n",
    "for i, variable in enumerate(ua_variables):\n",
    "    # Plot bar plot grouped by 'UTI_diag'\n",
    "    sns.countplot(data=df, x=variable, hue='UTI_diag', ax=axes[i, 0], palette=custom_palette)\n",
    "    axes[i, 0].set_title(f\"Bar Plot of {variable} by UTI Diagnosis\")\n",
    "    axes[i, 0].set_xlabel(variable)\n",
    "    axes[i, 0].set_ylabel(\"Count\")\n",
    "\n",
    "    # Plot bar plot for the entire dataset\n",
    "    sns.countplot(data=df, x=variable, ax=axes[i, 1], palette=custom_palette)\n",
    "    axes[i, 1].set_title(f\"Bar Plot of {variable} (Entire Dataset)\")\n",
    "    axes[i, 1].set_xlabel(variable)\n",
    "    axes[i, 1].set_ylabel(\"Count\")\n",
    "\n",
    "# Customize the plot style\n",
    "sns.set(style=\"whitegrid\")\n",
    "\n",
    "plt.tight_layout()\n",
    "plt.savefig('barplots.png')\n",
    "plt.show()"
   ]
  },
  {
   "cell_type": "markdown",
   "id": "e13aa990-b1ad-4eac-a4ad-b6a3581ba68e",
   "metadata": {
    "id": "e13aa990-b1ad-4eac-a4ad-b6a3581ba68e"
   },
   "source": [
    "#### Data Preprocessing"
   ]
  },
  {
   "cell_type": "code",
   "execution_count": null,
   "id": "4ece5c67-0c4b-4cac-ba69-a5df15edcd45",
   "metadata": {
    "id": "4ece5c67-0c4b-4cac-ba69-a5df15edcd45"
   },
   "outputs": [],
   "source": [
    "# Convert categorical variables\n",
    "df[cat_vars.columns] = df[cat_vars.columns].astype(str)\n",
    "df[cat_vars.columns] = df[cat_vars.columns].apply(LabelEncoder().fit_transform)"
   ]
  },
  {
   "cell_type": "code",
   "execution_count": null,
   "id": "814003d5-ffc5-4f0e-bb86-2efe961f3534",
   "metadata": {
    "id": "814003d5-ffc5-4f0e-bb86-2efe961f3534",
    "outputId": "a990439c-145c-4dcc-e7fb-f1ca23f098e7"
   },
   "outputs": [],
   "source": [
    "# List of dictionaries to store p-values for each categorical variable\n",
    "chi2_p_values = []\n",
    "\n",
    "# Chi-square test for each categorical variable\n",
    "for col in df.columns:\n",
    "    if col != 'UTI_diag':\n",
    "        cross_tab = pd.crosstab(df[col], df['UTI_diag'])\n",
    "        chi2, p, _, _ = stats.chi2_contingency(cross_tab)\n",
    "        chi2_p_values.append({'Variable': col, 'Chi2 P-Value': p})\n",
    "\n",
    "chi2_p_values_df = pd.DataFrame(chi2_p_values)\n",
    "\n",
    "# Filtering statistically significant associations (e.g., p-value threshold of 0.05)\n",
    "significant_associations = chi2_p_values_df[chi2_p_values_df['Chi2 P-Value'] < 0.05]\n",
    "\n",
    "print(significant_associations)"
   ]
  },
  {
   "cell_type": "markdown",
   "id": "73212018-9c3f-42a4-a223-77e81d8c7654",
   "metadata": {
    "id": "73212018-9c3f-42a4-a223-77e81d8c7654"
   },
   "source": [
    "### Feature Selection"
   ]
  },
  {
   "cell_type": "markdown",
   "id": "25a22a3e-fd26-465d-9d26-49d65bfe1bf5",
   "metadata": {
    "id": "25a22a3e-fd26-465d-9d26-49d65bfe1bf5"
   },
   "source": [
    "##### Using Random Forest"
   ]
  },
  {
   "cell_type": "code",
   "execution_count": null,
   "id": "951f4ed1-adf2-4f6d-bf8e-7249c13054c7",
   "metadata": {
    "id": "951f4ed1-adf2-4f6d-bf8e-7249c13054c7"
   },
   "outputs": [],
   "source": [
    "# Convert numbers to numeric data type\n",
    "num_vars = df.select_dtypes(include=['number'])\n",
    "df[num_vars.columns] = num_vars.astype(float)\n",
    "\n",
    "# Convert characters to character data type\n",
    "cat_vars = df.select_dtypes(include=['object'])\n",
    "df[cat_vars.columns] = cat_vars.astype(str)\n",
    "\n",
    "# Save the DataFrame to a CSV file with the specified data types\n",
    "df.to_csv('dat.csv', index=False)"
   ]
  },
  {
   "cell_type": "code",
   "execution_count": null,
   "id": "2d6fe12d-5c45-4a70-a136-3b7a56b64f5b",
   "metadata": {
    "id": "2d6fe12d-5c45-4a70-a136-3b7a56b64f5b",
    "outputId": "1b561dc4-0cff-41a9-b6bb-3b720df4cf8a"
   },
   "outputs": [],
   "source": [
    "# Separate dataset into features and target variable\n",
    "X = df.drop('UTI_diag', axis=1)\n",
    "y = df['UTI_diag']\n",
    "\n",
    "# Initialize the Random Forest classifier\n",
    "rf = RandomForestClassifier(n_estimators=100, random_state=42)\n",
    "\n",
    "# Fit the model to your data\n",
    "rf.fit(X, y)\n",
    "\n",
    "# Get feature importances from the trained Random Forest model\n",
    "feature_importances = rf.feature_importances_\n",
    "\n",
    "# Sort features by importance in descending order\n",
    "sorted_feature_indices = feature_importances.argsort()[::-1]\n",
    "\n",
    "# Number of top features to select\n",
    "num_top_features = 20  # Adjust this according to needs\n",
    "\n",
    "# Select the top N important features\n",
    "selected_features = X.iloc[:, sorted_feature_indices[:num_top_features]]\n",
    "\n",
    "# The top feature column names and their importances\n",
    "top_feature_names = X.columns[sorted_feature_indices[:num_top_features]]\n",
    "top_feature_importances = feature_importances[sorted_feature_indices[:num_top_features]]\n",
    "\n",
    "# Create a bar plot\n",
    "plt.figure(figsize=(10, 6))\n",
    "plt.barh(top_feature_names, top_feature_importances, color='skyblue')\n",
    "plt.xlabel('Feature Importance')\n",
    "plt.title('Top Features with Variable Importance')\n",
    "plt.gca().invert_yaxis()  # Invert the y-axis to show the most important feature at the top\n",
    "plt.savefig('features.png')\n",
    "plt.show()"
   ]
  },
  {
   "cell_type": "markdown",
   "id": "7a4e3be1-dd77-468a-9dee-9bca6b2977b3",
   "metadata": {
    "id": "7a4e3be1-dd77-468a-9dee-9bca6b2977b3"
   },
   "source": [
    "#### Features Selection Throughh ChiSq"
   ]
  },
  {
   "cell_type": "code",
   "execution_count": null,
   "id": "a4756cc1",
   "metadata": {
    "id": "a4756cc1",
    "outputId": "07025031-6827-4fe0-de32-fd3f9df5df9f"
   },
   "outputs": [],
   "source": [
    "from sklearn.feature_selection import SelectPercentile, chi2\n",
    "\n",
    "# Assuming df is the DataFrame and 'UTI_diag' is the target variable\n",
    "x_orig = df.drop(['UTI_diag'], axis=1)\n",
    "y_orig = df['UTI_diag']\n",
    "\n",
    "# Use chi2 as the score function\n",
    "FeatureSelection = SelectPercentile(score_func=chi2, percentile=20)\n",
    "x = FeatureSelection.fit_transform(x_orig, y_orig)\n",
    "\n",
    "fe = FeatureSelection.get_support()\n",
    "selected_features = []\n",
    "\n",
    "for i in range(len(fe)):\n",
    "    if fe[i]:\n",
    "        selected_features.append(x_orig.columns[i])\n",
    "\n",
    "# Ensure 'UTI_diag' is not in selected_features\n",
    "if 'UTI_diag' in selected_features:\n",
    "    selected_features.remove('UTI_diag')\n",
    "\n",
    "print(selected_features)\n"
   ]
  },
  {
   "cell_type": "code",
   "execution_count": null,
   "id": "74c2d737-d03b-478e-9880-f221f39a4250",
   "metadata": {
    "id": "74c2d737-d03b-478e-9880-f221f39a4250"
   },
   "outputs": [],
   "source": [
    "#creating a df with the selected fetaures\n",
    "selected_data = df[top_feature_names.tolist() + ['UTI_diag'] + ['gender']]"
   ]
  },
  {
   "cell_type": "code",
   "execution_count": null,
   "id": "df53cabe-20f3-4352-b9a1-365fd7eff4e3",
   "metadata": {
    "id": "df53cabe-20f3-4352-b9a1-365fd7eff4e3",
    "outputId": "85993a2a-3eb1-4b7b-ad8f-03cf893985bf"
   },
   "outputs": [],
   "source": [
    "selected_data.head()"
   ]
  },
  {
   "cell_type": "markdown",
   "id": "542053c8-4f12-4874-8b40-a59aefc52695",
   "metadata": {
    "id": "542053c8-4f12-4874-8b40-a59aefc52695"
   },
   "source": [
    "#### Splitting the dataset"
   ]
  },
  {
   "cell_type": "code",
   "execution_count": null,
   "id": "7072107d-39cf-4b31-bc1e-2d2bd2797475",
   "metadata": {
    "id": "7072107d-39cf-4b31-bc1e-2d2bd2797475"
   },
   "outputs": [],
   "source": [
    "X = selected_data.drop('UTI_diag', axis=1)\n",
    "y = selected_data['UTI_diag']\n",
    "\n",
    "# Split into training, testing, and validation sets\n",
    "X_train, X_temp, y_train, y_temp = train_test_split(X, y, test_size=0.3, random_state=42)\n",
    "X_test, X_val, y_test, y_val = train_test_split(X_temp, y_temp, test_size=0.5, random_state=42)"
   ]
  },
  {
   "cell_type": "markdown",
   "id": "179e8222",
   "metadata": {
    "id": "179e8222"
   },
   "source": [
    "#### Creating Evaluation Function"
   ]
  },
  {
   "cell_type": "code",
   "execution_count": null,
   "id": "098ee945-b276-4d81-b69b-225fb57eb4c3",
   "metadata": {
    "id": "098ee945-b276-4d81-b69b-225fb57eb4c3"
   },
   "outputs": [],
   "source": [
    "# Evaluation functions\n",
    "def evaluate(model, X, y, label):\n",
    "    y_pred = model.predict(X)\n",
    "    y_prob = model.predict_proba(X)[:, 1]\n",
    "\n",
    "    accuracy = accuracy_score(y, y_pred)\n",
    "    classification = classification_report(y, y_pred)\n",
    "\n",
    "    fpr, tpr, _ = roc_curve(y, y_prob)\n",
    "    roc_auc = auc(fpr, tpr)\n",
    "\n",
    "    precision, recall, _ = precision_recall_curve(y, y_prob)\n",
    "    pr_auc = auc(recall, precision)\n",
    "\n",
    "    prob_true, prob_pred = calibration_curve(y, y_prob, n_bins=10, strategy='uniform')\n",
    "\n",
    "    print(f\"{label} Set Results:\")\n",
    "    print(f\"Accuracy: {accuracy}\")\n",
    "    print(\"Classification Report:\")\n",
    "    print(classification)\n",
    "    print(f\"ROC AUC ({label}): {roc_auc:.2f}\")\n",
    "    print(f\"PR AUC ({label}): {pr_auc:.2f}\")\n",
    "\n",
    "    # Create the ROC Curve plot\n",
    "    plt.figure(figsize=(15, 4))\n",
    "    plt.subplot(2, 3, 1)\n",
    "    plt.plot(fpr, tpr, color='green', lw=2, label=f'ROC Curve ({label} AUC = {roc_auc:.2f})')  # Change color here\n",
    "    plt.plot([0, 1], [0, 1], color='navy', lw=2, linestyle='--')\n",
    "    plt.xlim([0.0, 1.0])\n",
    "    plt.ylim([0.0, 1.05])\n",
    "    plt.xlabel('False Positive Rate')\n",
    "    plt.ylabel('True Positive Rate')\n",
    "    plt.title(f'ROC Curve ({label})')\n",
    "    plt.legend(loc='lower right')\n",
    "\n",
    "    # Create the Precision-Recall Curve plot\n",
    "    plt.subplot(2, 3, 2)\n",
    "    plt.plot(recall, precision, color='purple', lw=2, label=f'PR Curve ({label} AUC = {pr_auc:.2f}')  # Change color here\n",
    "    plt.xlim([0.0, 1.0])\n",
    "    plt.ylim([0.0, 1.05])\n",
    "    plt.xlabel('Recall')\n",
    "    plt.ylabel('Precision')\n",
    "    plt.title(f'Precision-Recall (PR) Curve ({label})')\n",
    "    plt.legend(loc='lower left')\n",
    "\n",
    "    # Create the Calibration Curve plot\n",
    "    plt.subplot(2, 3, 3)\n",
    "    plt.plot(prob_pred, prob_true, marker='o', lw=2, label=f'Calibration Curve ({label})')\n",
    "    plt.plot([0, 1], [0, 1], color='navy', lw=2, linestyle='--')\n",
    "    plt.xlim([0.0, 1.0])\n",
    "    plt.ylim([0.0, 1.0])\n",
    "    plt.xlabel('Mean Predicted Probability')\n",
    "    plt.ylabel('Fraction of Positives')\n",
    "    plt.title(f'Calibration Curve ({label})')\n",
    "    plt.legend(loc='upper left')"
   ]
  },
  {
   "cell_type": "markdown",
   "id": "5e8adf68-6c69-471b-9dae-92e3d18b7431",
   "metadata": {
    "id": "5e8adf68-6c69-471b-9dae-92e3d18b7431"
   },
   "source": [
    "#### Model 1 : Logistic Regression"
   ]
  },
  {
   "cell_type": "code",
   "execution_count": null,
   "id": "c7b7d597",
   "metadata": {
    "id": "c7b7d597",
    "outputId": "1069405e-a817-439f-d298-fbcd40268b21"
   },
   "outputs": [],
   "source": [
    "# Initialize the logistic regression model\n",
    "lr = LogisticRegression()\n",
    "\n",
    "# Fit the model on training data\n",
    "lr.fit(X_train, y_train)\n",
    "\n",
    "# Evaluate on validation set\n",
    "evaluate(lr, X_val, y_val, 'Validation')\n",
    "\n",
    "# Evaluate on test set\n",
    "evaluate(lr, X_test, y_test, 'Test')\n",
    "\n",
    "plt.tight_layout()\n",
    "plt.savefig('logisticregression.png')\n",
    "plt.show()"
   ]
  },
  {
   "cell_type": "markdown",
   "id": "5ba97ed6-ea34-4735-a388-0cc6251c1a0f",
   "metadata": {
    "id": "5ba97ed6-ea34-4735-a388-0cc6251c1a0f"
   },
   "source": [
    "#### Model 2 : Random Forest"
   ]
  },
  {
   "cell_type": "code",
   "execution_count": null,
   "id": "cae27854-d9a6-4a24-b430-2c1e21d6d60d",
   "metadata": {
    "id": "cae27854-d9a6-4a24-b430-2c1e21d6d60d",
    "outputId": "60325e37-9947-4318-c31c-ab74097db12a"
   },
   "outputs": [],
   "source": [
    "# Initialize Random Forest classifier\n",
    "rfc = RandomForestClassifier(n_estimators=100, random_state=42)\n",
    "\n",
    "# Fit the model on training data\n",
    "rfc.fit(X_train, y_train)\n",
    "\n",
    "# Evaluate on validation set\n",
    "evaluate(rfc, X_val, y_val, 'Validation')\n",
    "\n",
    "# Evaluate on test set\n",
    "evaluate(rfc, X_test, y_test, 'Test')\n",
    "\n",
    "# Show the plots\n",
    "plt.tight_layout()\n",
    "plt.savefig('randomforests.png')\n",
    "plt.show()"
   ]
  },
  {
   "cell_type": "markdown",
   "id": "1c613360-6c12-4a1b-a7ec-b92de0ab39ab",
   "metadata": {
    "id": "1c613360-6c12-4a1b-a7ec-b92de0ab39ab"
   },
   "source": [
    "#### Model 3 : XGBoost"
   ]
  },
  {
   "cell_type": "code",
   "execution_count": null,
   "id": "32261e88-aaec-40ab-bdf9-487c75f5db20",
   "metadata": {
    "id": "32261e88-aaec-40ab-bdf9-487c75f5db20",
    "outputId": "8e49c475-b53d-431b-c82d-3d46294e86cb"
   },
   "outputs": [],
   "source": [
    "# Define the parameter grid to search\n",
    "param_grid = {\n",
    "    'learning_rate': [0.01, 0.1, 0.2],\n",
    "    'max_depth': [3, 4, 5],\n",
    "    'n_estimators': [100, 200, 300],\n",
    "}\n",
    "\n",
    "# Create an XGBoost classifier\n",
    "xgb = XGBClassifier()\n",
    "\n",
    "# Perform Grid Search with cross-validation\n",
    "grid_search = GridSearchCV(xgb, param_grid, scoring='accuracy', cv=5)\n",
    "grid_search.fit(X_train, y_train)\n",
    "\n",
    "# Get the best hyperparameters\n",
    "best_params = grid_search.best_params_\n",
    "print(\"Best Hyperparameters:\", best_params)"
   ]
  },
  {
   "cell_type": "code",
   "execution_count": null,
   "id": "736d0ced-d9b2-426a-87ea-6f9f0869cea3",
   "metadata": {
    "id": "736d0ced-d9b2-426a-87ea-6f9f0869cea3",
    "outputId": "1983d6e1-a71c-4938-d6bc-9c300f5c33e6"
   },
   "outputs": [],
   "source": [
    "# Initialize the XGBoost classifier\n",
    "xgbc = XGBClassifier(learning_rate=0.1, max_depth=5, n_estimators=300)\n",
    "\n",
    "# Fit the model on the training data\n",
    "xgbc.fit(X_train, y_train)\n",
    "\n",
    "# Evaluate on the validation set\n",
    "evaluate(xgbc, X_val, y_val, 'Validation')\n",
    "\n",
    "# Evaluate on the test set\n",
    "evaluate(xgbc, X_test, y_test, 'Test')\n",
    "\n",
    "# Show the plots\n",
    "plt.tight_layout()\n",
    "plt.savefig('xgboost.png')\n",
    "plt.show()"
   ]
  },
  {
   "cell_type": "markdown",
   "id": "afe34c5e-85a2-48eb-8d98-419acbc92392",
   "metadata": {
    "id": "afe34c5e-85a2-48eb-8d98-419acbc92392"
   },
   "source": [
    "### Measuring Model Performance"
   ]
  },
  {
   "cell_type": "code",
   "execution_count": null,
   "id": "57b1e254-d563-446f-b7c1-9e32533e3eed",
   "metadata": {
    "id": "57b1e254-d563-446f-b7c1-9e32533e3eed",
    "outputId": "576618e3-f631-42ce-ebc4-bc23e351726f"
   },
   "outputs": [],
   "source": [
    "# Function to plot confusion matrix\n",
    "def confusion_matrix_plot(y_true, y_pred, model_name):\n",
    "    cm = confusion_matrix(y_true, y_pred)\n",
    "\n",
    "    # Define a custom color map\n",
    "    cmap = plt.get_cmap(\"Blues\")  # You can choose a different color map\n",
    "\n",
    "    plt.imshow(cm, interpolation='nearest', cmap=cmap)\n",
    "    plt.title(f'Confusion Matrix - {model_name}')\n",
    "    plt.colorbar()\n",
    "    tick_marks = [0, 1]\n",
    "    plt.xticks(tick_marks, [\"Negative\", \"Positive\"])\n",
    "    plt.yticks(tick_marks, [\"Negative\", \"Positive\"])\n",
    "    plt.xlabel('Predicted')\n",
    "    plt.ylabel('True')\n",
    "\n",
    "    for i in range(2):\n",
    "        for j in range(2):\n",
    "            plt.text(j, i, str(cm[i, j]), horizontalalignment=\"center\", color=\"white\" if cm[i, j] > cm.max() / 2 else \"black\")\n",
    "\n",
    "    plt.show()\n",
    "\n",
    "# Initialize lists to store performance metrics\n",
    "metrics = []\n",
    "\n",
    "# Models we want to evaluate\n",
    "model_names = [\"Logistic Regression\", \"Random Forest\", \"XGBoost\"]\n",
    "\n",
    "# Iterate through the models and calculate metrics\n",
    "for model_name, model in zip(model_names, [lr, rfc, xgbc]):\n",
    "    y_test_prob = model.predict_proba(X_test)[:, 1]\n",
    "    y_pred = (y_test_prob > 0.5).astype(int)\n",
    "    tn, fp, fn, tp = confusion_matrix(y_test, y_pred).ravel()\n",
    "    sensitivity = tp / (tp + fn)\n",
    "    specificity = tn / (tn + fp)\n",
    "\n",
    "    fpr, tpr, _ = roc_curve(y_test, y_test_prob)\n",
    "    auc_score = auc(fpr, tpr)\n",
    "\n",
    "    metrics.append({\n",
    "        \"Model\": model_name,\n",
    "        \"TP\": tp,\n",
    "        \"FN\": fn,\n",
    "        \"TN\": tn,\n",
    "        \"FP\": fp,\n",
    "        \"Sensitivity\": f\"{sensitivity:.2f}\",\n",
    "        \"Specificity\": f\"{specificity:.2f}\",\n",
    "        \"AUC\": f\"{auc_score:.2f}\"\n",
    "    })\n",
    "\n",
    "    # Plot confusion matrix\n",
    "    confusion_matrix_plot(y_test, y_pred, model_name)\n",
    "\n",
    "# Create a DataFrame with the metrics\n",
    "results_df = pd.DataFrame(metrics)\n",
    "\n",
    "\n",
    "# Print the results as a table\n",
    "print(results_df)\n"
   ]
  },
  {
   "cell_type": "code",
   "execution_count": null,
   "id": "ca3ae16c-8152-4ba0-ab6f-f8eeff3edf7b",
   "metadata": {
    "id": "ca3ae16c-8152-4ba0-ab6f-f8eeff3edf7b",
    "outputId": "4a903f5a-2f9f-489f-b448-51a57633fa99"
   },
   "outputs": [],
   "source": [
    "# Define model names and models\n",
    "models = [lr, rfc, xgbc]\n",
    "\n",
    "# Initialize a figure\n",
    "plt.figure(figsize=(8, 6))\n",
    "\n",
    "# Plot ROC curves for each model\n",
    "for model_name, model in zip(model_names, models):\n",
    "    y_test_prob = model.predict_proba(X_test)[:, 1]\n",
    "    fpr, tpr, _ = roc_curve(y_test, y_test_prob)\n",
    "    auc = roc_auc_score(y_test, y_test_prob)\n",
    "    plt.plot(fpr, tpr, label=f'{model_name} (AUC = {auc:.2f})')\n",
    "\n",
    "# Set labels and title\n",
    "plt.xlabel('False Positive Rate')\n",
    "plt.ylabel('True Positive Rate')\n",
    "plt.title('ROC Curve for UTI Prediction Models')\n",
    "\n",
    "# Add a legend\n",
    "plt.legend(loc='lower right')\n",
    "\n",
    "# Show the plot\n",
    "plt.show()"
   ]
  }
 ],
 "metadata": {
  "colab": {
   "provenance": []
  },
  "kernelspec": {
   "display_name": "Python 3",
   "language": "python",
   "name": "python3"
  },
  "language_info": {
   "codemirror_mode": {
    "name": "ipython",
    "version": 3
   },
   "file_extension": ".py",
   "mimetype": "text/x-python",
   "name": "python",
   "nbconvert_exporter": "python",
   "pygments_lexer": "ipython3",
   "version": "3.8.8"
  }
 },
 "nbformat": 4,
 "nbformat_minor": 5
}
